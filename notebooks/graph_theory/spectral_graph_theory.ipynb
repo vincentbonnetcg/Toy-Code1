{
 "cells": [
  {
   "cell_type": "markdown",
   "id": "6352a849-4592-4329-9c36-f8f022b7b96b",
   "metadata": {},
   "source": [
    "# Spectral Graph Theory"
   ]
  },
  {
   "cell_type": "code",
   "execution_count": 3,
   "id": "8e90876e-1c10-43a7-bb27-9b85b54be345",
   "metadata": {},
   "outputs": [],
   "source": [
    "# TODO\n",
    "# Analysis of eigenvalues and eigenvectors on graph matrices"
   ]
  },
  {
   "cell_type": "code",
   "execution_count": null,
   "id": "3fe8e2a3-f6a2-4187-9cfa-d6fe3ab8e8be",
   "metadata": {},
   "outputs": [],
   "source": []
  }
 ],
 "metadata": {
  "kernelspec": {
   "display_name": "Python 3",
   "language": "python",
   "name": "python3"
  },
  "language_info": {
   "codemirror_mode": {
    "name": "ipython",
    "version": 3
   },
   "file_extension": ".py",
   "mimetype": "text/x-python",
   "name": "python",
   "nbconvert_exporter": "python",
   "pygments_lexer": "ipython3",
   "version": "3.7.9"
  }
 },
 "nbformat": 4,
 "nbformat_minor": 5
}
