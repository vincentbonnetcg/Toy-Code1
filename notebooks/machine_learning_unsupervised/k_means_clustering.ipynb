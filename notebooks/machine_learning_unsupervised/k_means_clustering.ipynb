{
 "cells": [
  {
   "cell_type": "markdown",
   "metadata": {},
   "source": [
    "# K-means Clustering\n",
    "The most popular algorithms for clustering is the K-mean clustering.\n",
    "What happen for non seperated clusters ? "
   ]
  },
  {
   "cell_type": "markdown",
   "metadata": {},
   "source": [
    "## Notations and Optimization Objective\n",
    "\n",
    "- $x^{1}, x^{2}, ..., x^{n}$ : training set \n",
    "\n",
    "- $K$ : number of clusters\n",
    "\n",
    "- $c^{(k)}$ : cluster index/category (1,2,..K)\n",
    "\n",
    "- $\\mu_{k}$ : cluster centroid $k$\n",
    "\n",
    "- $\\mu_{c^{(i)}}$ : cluster centroid of cluster to which example $x^{(i)}$ is assigned \n",
    "\n",
    "The cost function is called the **distortion** for k-means optimization."
   ]
  },
  {
   "cell_type": "markdown",
   "metadata": {},
   "source": [
    "## Initialize Data"
   ]
  },
  {
   "cell_type": "code",
   "execution_count": null,
   "metadata": {},
   "outputs": [],
   "source": [
    "import numpy as np\n",
    "from sklearn import datasets\n",
    "import matplotlib.pyplot as plt\n",
    "\n",
    "# Generate a random dataset \n",
    "NUM_SAMPLES = 2000\n",
    "NUM_CATEGORIES = 6\n",
    "X, y = datasets.make_blobs(n_samples=NUM_SAMPLES, centers=NUM_CATEGORIES, random_state=0)\n",
    "#X.shape is (n_samples, 2)\n",
    "\n",
    "plt.scatter(X[:,0], X[:,1], c='black', s=4, marker='.')\n",
    "#plt.scatter(X[:,0], X[:,1], c=y, s=5, marker='.')"
   ]
  },
  {
   "cell_type": "markdown",
   "metadata": {},
   "source": [
    "## Implementation from scratch"
   ]
  },
  {
   "cell_type": "markdown",
   "metadata": {},
   "source": [
    "**Algorithm Steps :**\n",
    "\n",
    "1. randomly initialize 'cluster centroids' $\\mu_{1}, \\mu_{2}, ... \\mu_{k}$\n",
    "2. cluster assignment step : each inputs associated with the closest 'cluster centroids'\n",
    "3. move cluster centroids step : move the cluster centroids $\\mu_{k}$ to the average(mean) of point assigned to cluster $k$\n",
    "4. repeat step 2 # "
   ]
  },
  {
   "cell_type": "markdown",
   "metadata": {},
   "source": [
    "**Extra Thought**\n",
    "\n",
    "How many 'cluster centroids' should we ask ? \n",
    "\n",
    "*Elbow method* is to plot the cost function baesd on K (no. of clusters)\n",
    "\n",
    "How to initialzie the cluster centroids ? \n",
    "\n",
    "Take 'cluster centroids' for example by trying multiple random initialization ! "
   ]
  },
  {
   "cell_type": "code",
   "execution_count": null,
   "metadata": {},
   "outputs": [],
   "source": [
    "import numpy as np\n",
    "\n",
    "NUM_ITERATIONS = 10\n",
    "\n",
    "# 1. initialize centroids and other useful variables\n",
    "rng = np.random.default_rng(12345) # create random number generator\n",
    "random_indices = rng.choice(NUM_SAMPLES, NUM_CATEGORIES, replace=False) # pick NUM_CATEGORIES indices\n",
    "C = X[random_indices] # centroid\n",
    "cluster_ids = np.empty(NUM_SAMPLES, dtype=int)\n",
    "cluster_distances = np.empty(NUM_SAMPLES, dtype=float)\n",
    "\n",
    "def iterate():\n",
    "    # 2. cluster assignment\n",
    "    cluster_ids.fill(-1)\n",
    "    cluster_distances.fill(np.finfo(cluster_distances.dtype).max)\n",
    "    for centroid_id in range(NUM_CATEGORIES):\n",
    "        # compute the euclidean distance\n",
    "        dist = np.linalg.norm(X - C[centroid_id],axis=1)\n",
    "        is_smaller = dist < cluster_distances\n",
    "        # assign values where is_small is True\n",
    "        cluster_ids[is_smaller] = centroid_id\n",
    "        cluster_distances[is_smaller] = dist[is_smaller]\n",
    "    #3. move cluster centroids\n",
    "    for centroid_id in range(NUM_CATEGORIES):\n",
    "        features = X[cluster_ids == centroid_id] # from centroids\n",
    "        C[centroid_id] = np.mean(features, axis=0)\n",
    "\n",
    "for i in range(NUM_ITERATIONS):\n",
    "    iterate()\n",
    "\n",
    "plt.scatter(X[:,0], X[:,1], c=cluster_ids, s=5, marker='.')\n",
    "plt.scatter(C[:,0], C[:,1], c='red', marker='x')\n"
   ]
  },
  {
   "cell_type": "markdown",
   "metadata": {},
   "source": [
    "## Implementation with sklearn"
   ]
  },
  {
   "cell_type": "code",
   "execution_count": null,
   "metadata": {},
   "outputs": [],
   "source": [
    "from sklearn.cluster import KMeans\n",
    "kmeans = KMeans(n_clusters=NUM_CATEGORIES, random_state=0).fit(X)\n",
    "\n",
    "C = kmeans.cluster_centers_\n",
    "plt.scatter(X[:,0], X[:,1], c=kmeans.labels_, s=5, marker='.')\n",
    "plt.scatter(C[:,0], C[:,1], c='red', marker='x')"
   ]
  },
  {
   "cell_type": "markdown",
   "metadata": {},
   "source": [
    "**Prediction Areas**"
   ]
  },
  {
   "cell_type": "code",
   "execution_count": null,
   "metadata": {},
   "outputs": [],
   "source": [
    "nx = 100\n",
    "ny = 100\n",
    "x = np.linspace(-5, 12.5, nx)\n",
    "y = np.linspace(-4, 10, ny)\n",
    "xv, yv = np.meshgrid(x, y)\n",
    "samples = np.empty((nx*ny,2))\n",
    "samples[:,0] = xv.flatten()\n",
    "samples[:,1] = yv.flatten()\n",
    "predictions = kmeans.predict(samples)\n",
    "plt.scatter(samples[:,0], samples[:,1], c=predictions, s=5, marker='.')\n",
    "plt.scatter(C[:,0], C[:,1], c='red', marker='x')"
   ]
  },
  {
   "cell_type": "code",
   "execution_count": null,
   "metadata": {},
   "outputs": [],
   "source": []
  }
 ],
 "metadata": {
  "kernelspec": {
   "display_name": "Python 3",
   "language": "python",
   "name": "python3"
  },
  "language_info": {
   "codemirror_mode": {
    "name": "ipython",
    "version": 3
   },
   "file_extension": ".py",
   "mimetype": "text/x-python",
   "name": "python",
   "nbconvert_exporter": "python",
   "pygments_lexer": "ipython3",
   "version": "3.7.7"
  }
 },
 "nbformat": 4,
 "nbformat_minor": 4
}
