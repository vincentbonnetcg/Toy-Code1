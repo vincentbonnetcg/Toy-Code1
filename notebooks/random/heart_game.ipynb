{
 "cells": [
  {
   "cell_type": "markdown",
   "id": "92c64f26-78bb-4e91-911a-e1d115afbace",
   "metadata": {},
   "source": [
    "# Heart Hunting"
   ]
  },
  {
   "cell_type": "markdown",
   "id": "6f78ba4b-f296-492e-98f7-ce82bd9a745d",
   "metadata": {},
   "source": [
    "## Step 1 - Find the hearts ! "
   ]
  },
  {
   "cell_type": "markdown",
   "id": "2b5032aa-43ef-42a7-b7f5-a28141b2c69f",
   "metadata": {},
   "source": [
    "Chocolate hearts are somewhere in the physical world ! "
   ]
  },
  {
   "cell_type": "markdown",
   "id": "b7889b50-0529-4461-bff4-1d6a51e87cd7",
   "metadata": {},
   "source": [
    "## Step 2 - Set the values"
   ]
  },
  {
   "cell_type": "code",
   "execution_count": null,
   "id": "e7c2e125-803c-47ee-867f-2c7ad12d22a6",
   "metadata": {},
   "outputs": [],
   "source": [
    "ORANGE_HEART = 54  # TODO - set the orange heart value\n",
    "MAGENTA_HEART = 36 # TODO - set the magenta heart value\n",
    "PURPLE_HEART = 65 # TODO - set the purple heart value\n",
    "DARKGREEN_HEART = 54 # TODO - set the darkgreen heart value \n",
    "YELLOWGREEN_HEART = 98 # TODO - set the yellowgreen hear value\n",
    "SEAGREEN_HEART = 12 # TODO - set the seagreen hear value\n",
    "values = [ORANGE_HEART, MAGENTA_HEART, PURPLE_HEART, DARKGREEN_HEART, YELLOWGREEN_HEART, SEAGREEN_HEART]\n",
    "names = ['orange', 'magenta', 'purple', 'darkgreen', 'yellowgreen', 'seagreen']"
   ]
  },
  {
   "cell_type": "markdown",
   "id": "8a34e118-b7fa-4749-9963-e528b1d1ce22",
   "metadata": {},
   "source": [
    "Visualize your settings"
   ]
  },
  {
   "cell_type": "code",
   "execution_count": null,
   "id": "9d4ecbaf-51be-4e4f-8568-c74b71458690",
   "metadata": {},
   "outputs": [],
   "source": [
    "import pylab\n",
    "import numpy\n",
    "\n",
    "def draw_heart(color, value):    \n",
    "    x = numpy.linspace(-2,2,1000)\n",
    "    y1 = numpy.sqrt(1-(abs(x)-1)**2)\n",
    "    y2 = -3*numpy.sqrt(1-(abs(x)/2)**0.5)\n",
    "    pylab.fill_between(x, y1, color=color)\n",
    "    pylab.fill_between(x, y2, color=color)\n",
    "    pylab.xlim([-2.5, 2.5])\n",
    "    pylab.text(0, -0.4, str(value), fontsize=24, fontweight='bold',\n",
    "               color='white', horizontalalignment='center')\n",
    "    pylab.show()\n",
    "\n",
    "for i in range(6):\n",
    "    draw_heart(names[i], values[i])\n"
   ]
  },
  {
   "cell_type": "markdown",
   "id": "89c20dba-07db-4c6f-82ef-181467114849",
   "metadata": {},
   "source": [
    "## Step 3 - Prepare the Decoder !"
   ]
  },
  {
   "cell_type": "code",
   "execution_count": null,
   "id": "a8fae94d-69fd-4652-8437-7e8ec3deff0f",
   "metadata": {},
   "outputs": [],
   "source": [
    "key = 0.\n",
    "for v in values:\n",
    "    key += hash(float(v)/1000) % 1000000000\n",
    "key = int(abs(key) % 1000000000)\n",
    "\n",
    "_encoded_things = ['J73ol Boaq', 'MqqWbake', 'Vefq8 Dov89', 'Hqyo6 Pie', 'Zehq8 butq64Wjiscur8', 'Hqyo6 snayYqqr', 'H53q7ie', 'Zehq8']\n",
    "_encoded_things += ['Mq5qUFace', 'It4qUPearg', 'F6pj5 Rar8', 'J73olgirl', 'nq5e5rcup', 'Mq5y5 pie', 'H53q7 Butq', 'Zehq8 Bunx9', 'Fthzrkes']\n",
    "_hmm ='0123456789qwertyuiopasdfghjklzxcvbnmMNBVCXZLKJHGFDSAPOIUYTREWQ '  \n",
    "\n",
    "def dosomething(thing, key, func):\n",
    "    key_str = str(key)\n",
    "    thing_list = list(thing)\n",
    "    j = 0\n",
    "    for i in range(len(thing_list)):\n",
    "        idx = func(_hmm.index(thing_list[i]), _hmm.index(key_str[j]))\n",
    "        idx = idx % len(_hmm)\n",
    "        thing_list[i] = _hmm[idx]\n",
    "        j += 1\n",
    "        j = j % len(key_str)\n",
    "\n",
    "    return(''.join(thing_list))"
   ]
  },
  {
   "cell_type": "markdown",
   "id": "61482649-82b4-4a20-9c03-582b4d015215",
   "metadata": {},
   "source": [
    "## Step 4 - Play"
   ]
  },
  {
   "cell_type": "code",
   "execution_count": null,
   "id": "8bce3898-5ca3-4a3e-b241-5116f6e068e0",
   "metadata": {},
   "outputs": [],
   "source": [
    "from random import seed, randint\n",
    "i = randint(0,len(_encoded_things)-1)\n",
    "thing = dosomething(_encoded_things[i], key, lambda x, y: x + y)\n",
    "\n",
    "print(thing)"
   ]
  },
  {
   "cell_type": "code",
   "execution_count": null,
   "id": "87620368-ee37-448d-911d-5b758ae3849b",
   "metadata": {},
   "outputs": [],
   "source": []
  }
 ],
 "metadata": {
  "kernelspec": {
   "display_name": "Python 3",
   "language": "python",
   "name": "python3"
  },
  "language_info": {
   "codemirror_mode": {
    "name": "ipython",
    "version": 3
   },
   "file_extension": ".py",
   "mimetype": "text/x-python",
   "name": "python",
   "nbconvert_exporter": "python",
   "pygments_lexer": "ipython3",
   "version": "3.7.9"
  }
 },
 "nbformat": 4,
 "nbformat_minor": 5
}
